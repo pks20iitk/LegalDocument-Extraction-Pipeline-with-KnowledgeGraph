{
  "cells": [
    {
      "cell_type": "code",
      "execution_count": 8,
      "metadata": {
        "id": "dliJ9C3wPFrq",
        "outputId": "e2e67d8b-1bfa-4e6a-c430-b5c9788bebeb"
      },
      "outputs": [
        {
          "data": {
            "text/plain": [
              "True"
            ]
          },
          "execution_count": 8,
          "metadata": {},
          "output_type": "execute_result"
        }
      ],
      "source": [
        "import os\n",
        "from langchain.document_loaders import JSONLoader, DirectoryLoader, PyPDFLoader\n",
        "from langchain.text_splitter import RecursiveCharacterTextSplitter\n",
        "from langchain import PromptTemplate, LLMChain\n",
        "from langchain.embeddings import HuggingFaceEmbeddings, OpenAIEmbeddings\n",
        "from langchain.chains import RetrievalQA\n",
        "from langchain.vectorstores import FAISS\n",
        "from langchain.retrievers import ContextualCompressionRetriever\n",
        "from langchain.retrievers.document_compressors import LLMChainFilter\n",
        "from langchain.callbacks import get_openai_callback\n",
        "import requests\n",
        "from langchain.prompts import ChatPromptTemplate\n",
        "from langchain.prompts.chat import SystemMessage, HumanMessagePromptTemplate\n",
        "\n",
        "from langchain.chat_models import AzureChatOpenAI\n",
        "from dotenv import load_dotenv\n",
        "load_dotenv()\n"
      ]
    },
    {
      "cell_type": "markdown",
      "metadata": {
        "id": "w0x_br7dPFru"
      },
      "source": [
        "## Defining the chat model of LLM for entity relationship extraction"
      ]
    },
    {
      "cell_type": "code",
      "execution_count": 9,
      "metadata": {
        "id": "EihGs_MoPFrv"
      },
      "outputs": [],
      "source": [
        "def generate_system_message() -> str:\n",
        "    return \"\"\"\n",
        "You are a data scientist working for a company that is building a graph database. Your task is to extract information from data and convert it into a graph database.\n",
        "Provide a set of Nodes in the form [ENTITY_ID, TYPE, PROPERTIES] and a set of relationships in the form [ENTITY_ID_1, RELATIONSHIP, ENTITY_ID_2, PROPERTIES].\n",
        "It is important that the ENTITY_ID_1 and ENTITY_ID_2 exists as nodes with a matching ENTITY_ID. If you can't pair a relationship with a pair of nodes don't add it.\n",
        "When you find a node or relationship you want to add try to create a generic TYPE for it that  describes the entity you can also think of it as a label.\n",
        "\n",
        "Example:\n",
        "Data: Interest Rate: shall mean, for any Interest Period, (x) the Spread plus the\n",
        "Benchmark for such Interest Period or (y) when applicable pursuant to this Agreement or any other\n",
        "Loan Document, the Default Rate.\n",
        "Spread: shall mean 4.75%.\n",
        "Benchmark: shall mean, initially, the London interbank offered rate for U.S. dollars\n",
        "with a 1-month tenor; provided that if a Benchmark Transition Event or an Early Opt-in Election,\n",
        "as applicable, and its related Benchmark Replacement Date have occurred with respect to the then current Benchmark, then “Benchmark” means the applicable Benchmark Replacement to the\n",
        "extent that such Benchmark Replacement has replaced such prior benchmark rate pursuant to\n",
        "Section 2.10 hereof. Lender shall determine the Benchmark (and the applicable Reference Time)\n",
        "as in effect from time to time, and each such determination by Lender shall be conclusive and\n",
        "binding absent manifest error. While the Benchmark remains the London interbank offered rate\n",
        "for U.S. dollars with a 1-month tenor, Lender shall determine the same in accordance with the\n",
        "defined term “LIBOR.”\n",
        "LIBOR: shall mean, with respect to any Interest Period, a rate per annum (expressed\n",
        "as a percentage per annum rounded upwards, if necessary, to the nearest one hundredth (1/100th)\n",
        "of one percent (1%)) for deposits in U.S. Dollars for a one (1) month period that appears on Reuters\n",
        "Screen LIBOR01 Page as of 11:00 a.m., London time. Notwithstanding the\n",
        "foregoing, in no event shall LIBOR be an amount less than the Index Floor.\n",
        "Index Floor: shall mean one-quarter of one percent (0.25%) per annum.\n",
        "Nodes: [\"Interest Rate\", \"FinancialTerm\", {\"name\":\"Interest Rate\"}], [\"Spread\", \"FinancialTerm\", {\"value\": \"4.75%\", \"name\": \"Spread\"}], [\"Benchmark\", \"FinancialTerm\", {\"name\": \"Benchmark\"}], [\"LIBOR\", \"FinancialTerm\", {\"name\": \"LIBOR\"}], [\"IndexFloorRate\", \"FinancialTerm\", {\"name\": \"Index Floor Rate\", \"value\": \"0.25%\"}]\n",
        "Relationships: [\"Interest Rate\", \"SUM_OF\", \"Spread\", {}], [\"Interest Rate\", \"SUM_OF\", \"Benchmark\", {}], [\"Benchmark\", \"Initial Benchmark\", \"LIBOR\", {}],  [\"LIBOR\", \"MINIMUM_VALUE\", \"Index Floor Rate\", {}]\n",
        "\"\"\"\n",
        "\n",
        "def generate_prompt(data) -> str:\n",
        "    return f\"\"\"\n",
        "Data: {str(data)}\n",
        "\"\"\"\n",
        "\n",
        "def generate_cypher() -> str:\n",
        "    return \"\"\"Return the Cypher code for the given entity relationships. Only write the code.\"\"\"\n",
        "\n",
        "def generate_prompt_for_question(entity_relationship: str, question: str) -> str:\n",
        "    return f\"\"\"\n",
        "You are a graph data scientist working for a company that is building a graph database. Your task is to extract information from questions and convert it to cypher query.\n",
        "The following is the nodes and relationships of the graph database:\n",
        "\n",
        "{entity_relationship}\n",
        "\n",
        "Example:\\\n",
        "Question: How is the interest rate calculated?\\\n",
        "Cypher: MATCH (a:FinancialTerm)-[b:SUM_OF]->(c:FinancialTerm), (d:FinancialTerm)-[e:Initial_Benchmark]->(f:LIBOR), (g:FinancialTerm)-[h:MINIMUM_VALUE]->(i:FinancialTerm)  RETURN a,b,c,d,e,f,g,h,i\\\n",
        "\n",
        "Now do the same for the following questions:\n",
        "\n",
        "The following is the question:\n",
        "{question}\\\n",
        "\n",
        "Return the cypher code to query the graph database. Only write the code.\n",
        "\"\"\"\n",
        "\n",
        "def generate_prompt_cypher2text(cypher: str, context: str):\n",
        "    return f\"\"\"\n",
        "You are a graph data scientist working for a company that is building a graph database. Your task is to convert cypher query to natural language text.\n",
        "The following is the cypher query:\\\n",
        "{cypher}\\\n",
        "\n",
        "Using the logic above, extract the answer to the question from the below context:\\\n",
        "{context}\\\n",
        "\"\"\""
      ]
    },
    {
      "cell_type": "code",
      "execution_count": 10,
      "metadata": {
        "id": "0A8pS_M1PFrw"
      },
      "outputs": [],
      "source": [
        "import os\n",
        "import openai\n",
        "from dotenv import load_dotenv\n",
        "load_dotenv()\n",
        "\n",
        "openai.api_type = \"azure\"\n",
        "openai.api_base = os.getenv(\"OPENAI_API_BASE\")\n",
        "openai.api_version = \"2023-05-15\"\n",
        "openai.api_key = os.getenv(\"OPENAI_API_KEY\")\n",
        "engine=\"PROD-GPT-16K-TURBO\"\n",
        "\n",
        "def text2triplets(text: str):\n",
        "    entity_rel_output = openai.ChatCompletion.create(\n",
        "    engine=engine, # engine = \"deployment_name\".\n",
        "    messages=[\n",
        "        {\"role\": \"system\", \"content\": generate_system_message()},\n",
        "        {\"role\": \"user\", \"content\": generate_prompt(text)}\n",
        "        ]\n",
        "    )\n",
        "    entity_rel_output = entity_rel_output['choices'][0]['message']['content']\n",
        "    return entity_rel_output\n",
        "\n",
        "    \"\"\"cypher_output = openai.ChatCompletion.create(\n",
        "        engine=engine,\n",
        "        messages=[\n",
        "            {\"role\": \"system\", \"content\": generate_cypher()},\n",
        "            {\"role\": \"user\", \"content\": entity_rel_output}\n",
        "        ]\n",
        "    )\n",
        "        cypher_output = cypher_output['choices'][0]['message']['content']\n",
        "\n",
        "        return cypher_output \"\"\"\n",
        "\n",
        "def triplet2cypher(entity_rel_output: str):\n",
        "    cypher_output = openai.ChatCompletion.create(\n",
        "        engine=engine,\n",
        "        messages=[\n",
        "            {\"role\": \"system\", \"content\": generate_cypher()},\n",
        "            {\"role\": \"user\", \"content\": entity_rel_output}\n",
        "        ]\n",
        "    )\n",
        "    cypher_output = cypher_output['choices'][0]['message']['content']\n",
        "\n",
        "    return cypher_output\n",
        "\n",
        "def question2cypher(entity_relationship: str, question: str) -> str:\n",
        "    cypher_output = openai.ChatCompletion.create(\n",
        "        engine=engine,\n",
        "        messages=[\n",
        "            {\"role\": \"system\", \"content\": generate_prompt_for_question(question=question, entity_relationship=entity_relationship)},\n",
        "            {\"role\": \"user\", \"content\": question}\n",
        "        ]\n",
        "    )\n",
        "    cypher_output = cypher_output['choices'][0]['message']['content']\n",
        "    return cypher_output\n",
        "\n",
        "def cypher2text(cypher: str, question: str, text: str) -> str:\n",
        "    output =  openai.ChatCompletion.create(\n",
        "        engine=engine,\n",
        "        messages=[\n",
        "            {\"role\": \"system\", \"content\": generate_prompt_cypher2text(cypher=cypher, context=text)},\n",
        "            {\"role\": \"user\", \"content\": question}\n",
        "        ]\n",
        "    )\n",
        "    output = output['choices'][0]['message']['content']\n",
        "    return output"
      ]
    },
    {
      "cell_type": "markdown",
      "metadata": {
        "id": "ZS58eJeHPFrx"
      },
      "source": [
        "### read the text context file"
      ]
    },
    {
      "cell_type": "code",
      "execution_count": 11,
      "metadata": {
        "id": "XeKtT78jPFrx"
      },
      "outputs": [],
      "source": [
        "with open('text.txt', encoding='utf-8') as f:\n",
        "    text = f.read()"
      ]
    },
    {
      "cell_type": "markdown",
      "metadata": {
        "id": "3M7Afu4JPFrx"
      },
      "source": [
        "## Creating the Graph Database"
      ]
    },
    {
      "cell_type": "markdown",
      "metadata": {
        "id": "UEx5ZUfWPFry"
      },
      "source": [
        "### Convert text context to entity relationship triplets"
      ]
    },
    {
      "cell_type": "code",
      "execution_count": 12,
      "metadata": {
        "id": "w5LXzB_3PFry",
        "outputId": "99f30075-0b58-42a7-e776-890a637cb13a"
      },
      "outputs": [
        {
          "name": "stdout",
          "output_type": "stream",
          "text": [
            "Here all the entity relationship found: \n",
            "Nodes: \n",
            "[\"Interest Rate\", \"FinancialTerm\", {\"name\":\"Interest Rate\"}], \n",
            "[\"Spread\", \"FinancialTerm\", {\"value\": \"4.75%\", \"name\": \"Spread\"}], \n",
            "[\"Benchmark\", \"FinancialTerm\", {\"name\": \"Benchmark\"}], \n",
            "[\"LIBOR\", \"FinancialTerm\", {\"name\": \"LIBOR\"}], \n",
            "[\"IndexFloorRate\", \"FinancialTerm\", {\"name\": \"Index Floor Rate\", \"value\": \"0.25%\"}]\n",
            "\n",
            "Relationships: \n",
            "[\"Interest Rate\", \"SUM_OF\", \"Spread\", {}], \n",
            "[\"Interest Rate\", \"SUM_OF\", \"Benchmark\", {}], \n",
            "[\"Benchmark\", \"Initial Benchmark\", \"LIBOR\", {}],  \n",
            "[\"LIBOR\", \"MINIMUM_VALUE\", \"Index Floor Rate\", {}]\n"
          ]
        }
      ],
      "source": [
        "\n",
        "#extracted_entities,query_output = text2cypher(text)\n",
        "output=text2triplets(text)\n",
        "print(\"Here all the entity relationship found: \\n\" + output )"
      ]
    },
    {
      "cell_type": "markdown",
      "metadata": {
        "id": "5FS5C6rSPFry"
      },
      "source": [
        "### Convert entity relationship triplets to cypher query"
      ]
    },
    {
      "cell_type": "code",
      "execution_count": 16,
      "metadata": {
        "id": "AVDbnsGePFrz",
        "outputId": "a2bb77c6-850a-4f94-d503-12bcd868e115"
      },
      "outputs": [
        {
          "name": "stdout",
          "output_type": "stream",
          "text": [
            "\n",
            " Here are converted queries from triplets that can be executed on graph database: \n",
            "\n",
            "CREATE (ir:InterestRate:FinancialTerm {name: \"Interest Rate\"})\n",
            "CREATE (s:Spread:FinancialTerm {value: \"4.75%\", name: \"Spread\"})\n",
            "CREATE (b:Benchmark:FinancialTerm {name: \"Benchmark\"})\n",
            "CREATE (l:LIBOR:FinancialTerm {name: \"LIBOR\"})\n",
            "CREATE (ifr:IndexFloorRate:FinancialTerm {name: \"Index Floor Rate\", value: \"0.25%\"})\n",
            "CREATE (ir)-[:SUM_OF]->(s)\n",
            "CREATE (ir)-[:SUM_OF]->(b)\n",
            "CREATE (b)-[:Initial_Benchmark]->(l)\n",
            "CREATE (l)-[:MINIMUM_VALUE]->(ifr)\n"
          ]
        }
      ],
      "source": [
        "print(\"\\n Here are converted queries from triplets that can be executed on graph database: \\n\")\n",
        "query_output = triplet2cypher(output)\n",
        "print(query_output)"
      ]
    },
    {
      "cell_type": "markdown",
      "metadata": {
        "id": "-XORikXgPFrz"
      },
      "source": [
        "### Connect the neo4j and create the knowledge graph from the cypher"
      ]
    },
    {
      "cell_type": "code",
      "execution_count": 2,
      "metadata": {
        "colab": {
          "base_uri": "https://localhost:8080/"
        },
        "id": "Y-sapZ7BPFrz",
        "outputId": "d600654e-1446-4926-fa9f-f8868f9847aa"
      },
      "outputs": [
        {
          "name": "stdout",
          "output_type": "stream",
          "text": [
            "Collecting neo4j\n",
            "  Downloading neo4j-5.13.0.tar.gz (192 kB)\n",
            "\u001b[?25l     \u001b[90m━━━━━━━━━━━━━━━━━━━━━━━━━━━━━━━━━━━━━━━━\u001b[0m \u001b[32m0.0/192.3 kB\u001b[0m \u001b[31m?\u001b[0m eta \u001b[36m-:--:--\u001b[0m\r\u001b[2K     \u001b[91m━━━━━━━━━━━━\u001b[0m\u001b[91m╸\u001b[0m\u001b[90m━━━━━━━━━━━━━━━━━━━━━━━━━━━\u001b[0m \u001b[32m61.4/192.3 kB\u001b[0m \u001b[31m1.8 MB/s\u001b[0m eta \u001b[36m0:00:01\u001b[0m\r\u001b[2K     \u001b[90m━━━━━━━━━━━━━━━━━━━━━━━━━━━━━━━━━━━━━━━\u001b[0m \u001b[32m192.3/192.3 kB\u001b[0m \u001b[31m3.3 MB/s\u001b[0m eta \u001b[36m0:00:00\u001b[0m\n",
            "\u001b[?25h  Installing build dependencies ... \u001b[?25l\u001b[?25hdone\n",
            "  Getting requirements to build wheel ... \u001b[?25l\u001b[?25hdone\n",
            "  Installing backend dependencies ... \u001b[?25l\u001b[?25hdone\n",
            "  Preparing metadata (pyproject.toml) ... \u001b[?25l\u001b[?25hdone\n",
            "Requirement already satisfied: pytz in /usr/local/lib/python3.10/dist-packages (from neo4j) (2023.3.post1)\n",
            "Building wheels for collected packages: neo4j\n",
            "  Building wheel for neo4j (pyproject.toml) ... \u001b[?25l\u001b[?25hdone\n",
            "  Created wheel for neo4j: filename=neo4j-5.13.0-py3-none-any.whl size=265313 sha256=03531df22aa0feef76aaad29a8f93f1d8ab3dbc5349fe04ff36a0644b5d39830\n",
            "  Stored in directory: /root/.cache/pip/wheels/7b/1d/b6/1be3a1e9de57bc832b7fcebbbf884186d8155bb6f1cc45be99\n",
            "Successfully built neo4j\n",
            "Installing collected packages: neo4j\n",
            "Successfully installed neo4j-5.13.0\n"
          ]
        }
      ],
      "source": [
        "!pip install neo4j"
      ]
    },
    {
      "cell_type": "code",
      "execution_count": 17,
      "metadata": {
        "colab": {
          "base_uri": "https://localhost:8080/"
        },
        "id": "olp4sPayPFrz",
        "outputId": "6046b22a-2670-42dd-a015-9b2f7ff11130"
      },
      "outputs": [
        {
          "data": {
            "text/plain": [
              "<neo4j._sync.work.result.Result at 0x7ff601e68430>"
            ]
          },
          "execution_count": 17,
          "metadata": {},
          "output_type": "execute_result"
        }
      ],
      "source": [
        "import neo4j\n",
        "\n",
        "# Connect to the Neo4j database\n",
        "\n",
        "uri = \"neo4j+s://52890117.databases.neo4j.io\"\n",
        "username = \"neo4j\"\n",
        "password = \"UxotX-MJuZFoNVyeCfh-nJTWM79IWMYJEbQHpBBcbVA\"\n",
        "\n",
        "# Connect to the Neo4j database\n",
        "driver = neo4j.GraphDatabase.driver(uri, auth=(username, password))\n",
        "\n",
        "# Create a session\n",
        "session = driver.session()\n",
        "\n",
        "# for deleting all nodes and relationships\n",
        "# query = \"\"\"MATCH (n)\n",
        "# # DETACH DELETE n\"\"\"\n",
        "# session.run(query)\n",
        "\n",
        "# Run the query\n",
        "query = query_output\n",
        "\n",
        "# Execute the query\n",
        "session.run(query)\n",
        "\n",
        "# # visualize all the nodes and relationships\n",
        "# query = \"\"\"MATCH (a)-[r]->(b)\n",
        "# RETURN a, r, b\"\"\"\n"
      ]
    },
    {
      "cell_type": "markdown",
      "metadata": {
        "id": "HgrI_6b_PFrz"
      },
      "source": [
        "Hey after this the graph visualization step is manual here is a link you can log in with above credentials to check your graph :\n",
        "1) https://workspace-preview.neo4j.io/connection/connect\n"
      ]
    },
    {
      "cell_type": "code",
      "execution_count": null,
      "metadata": {
        "id": "R3YAoDEsPFr0"
      },
      "outputs": [],
      "source": [
        "session.close()"
      ]
    },
    {
      "cell_type": "markdown",
      "metadata": {
        "id": "TJw61yKhPFr0"
      },
      "source": [
        "## Generate answer from the questions"
      ]
    },
    {
      "cell_type": "code",
      "execution_count": 15,
      "metadata": {
        "colab": {
          "base_uri": "https://localhost:8080/",
          "height": 249
        },
        "id": "hxR1U8F7PFr0",
        "outputId": "92cafc17-0434-46b9-fc4c-135e6470a3a2"
      },
      "outputs": [
        {
          "name": "stdout",
          "output_type": "stream",
          "text": [
            "MATCH (a:FinancialTerm)-[b:SUM_OF]->(c:FinancialTerm), (c:FinancialTerm)-[d:Initial_Benchmark]->(e:FinancialTerm) RETURN a,b,c,d,e\n",
            "The interest rate is calculated by adding the spread to the benchmark rate. The spread is a fixed percentage, while the benchmark rate is initially the London interbank offered rate (LIBOR) for U.S. dollars with a 1-month tenor. However, if there is a benchmark transition event or an early opt-in election, the benchmark may be replaced with a benchmark replacement. The lender determines the benchmark and its applicable reference time. The interest rate is determined by the lender and is binding unless there is a manifest error. The benchmark rate is calculated based on the rate for deposits in U.S. dollars for a one-month period that appears on the Reuters Screen LIBOR01 Page at 11:00 a.m. London time, two business days before the start of the interest period. If the rate is not available, the lender will request rates from four prime banks in the London interbank market or major banks in New York City to calculate the benchmark rate. The benchmark rate cannot be lower than the index floor, which is one-quarter of one percent per annum.\n"
          ]
        }
      ],
      "source": [
        "entity_rel = text2triplets(text)\n",
        "\n",
        "question = \"How is the interest rate calculated?\"\n",
        "cypher_output = question2cypher(entity_relationship= entity_rel, question=question)\n",
        "\n",
        "print(cypher_output)\n",
        "\n",
        "answer = cypher2text(cypher=cypher_output, question=question, text=text)\n",
        "print(answer)"
      ]
    },
    {
      "cell_type": "markdown",
      "metadata": {
        "id": "jauCUTtrPFr0"
      },
      "source": []
    },
    {
      "cell_type": "markdown",
      "metadata": {},
      "source": []
    }
  ],
  "metadata": {
    "colab": {
      "provenance": []
    },
    "kernelspec": {
      "display_name": ".venv",
      "language": "python",
      "name": "python3"
    },
    "language_info": {
      "codemirror_mode": {
        "name": "ipython",
        "version": 3
      },
      "file_extension": ".py",
      "mimetype": "text/x-python",
      "name": "python",
      "nbconvert_exporter": "python",
      "pygments_lexer": "ipython3",
      "version": "3.9.7"
    },
    "orig_nbformat": 4
  },
  "nbformat": 4,
  "nbformat_minor": 0
}
